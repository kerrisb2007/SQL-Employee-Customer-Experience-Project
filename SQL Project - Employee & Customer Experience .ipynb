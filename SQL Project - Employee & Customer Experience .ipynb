{
 "cells": [
  {
   "cell_type": "code",
   "execution_count": 16,
   "id": "b01d9099",
   "metadata": {},
   "outputs": [
    {
     "name": "stdout",
     "output_type": "stream",
     "text": [
      "Requirement already satisfied: ipython-sql in c:\\users\\kerri\\anaconda3\\lib\\site-packages (0.4.1)\n",
      "Requirement already satisfied: prettytable<1 in c:\\users\\kerri\\anaconda3\\lib\\site-packages (from ipython-sql) (0.7.2)\n",
      "Requirement already satisfied: six in c:\\users\\kerri\\anaconda3\\lib\\site-packages (from ipython-sql) (1.16.0)\n",
      "Requirement already satisfied: sqlparse in c:\\users\\kerri\\anaconda3\\lib\\site-packages (from ipython-sql) (0.4.3)\n",
      "Requirement already satisfied: ipython-genutils>=0.1.0 in c:\\users\\kerri\\anaconda3\\lib\\site-packages (from ipython-sql) (0.2.0)\n",
      "Requirement already satisfied: sqlalchemy>=0.6.7 in c:\\users\\kerri\\anaconda3\\lib\\site-packages (from ipython-sql) (1.4.39)\n",
      "Requirement already satisfied: ipython>=1.0 in c:\\users\\kerri\\anaconda3\\lib\\site-packages (from ipython-sql) (7.31.1)\n",
      "Requirement already satisfied: traitlets>=4.2 in c:\\users\\kerri\\anaconda3\\lib\\site-packages (from ipython>=1.0->ipython-sql) (5.1.1)\n",
      "Requirement already satisfied: backcall in c:\\users\\kerri\\anaconda3\\lib\\site-packages (from ipython>=1.0->ipython-sql) (0.2.0)\n",
      "Requirement already satisfied: pickleshare in c:\\users\\kerri\\anaconda3\\lib\\site-packages (from ipython>=1.0->ipython-sql) (0.7.5)\n",
      "Requirement already satisfied: jedi>=0.16 in c:\\users\\kerri\\anaconda3\\lib\\site-packages (from ipython>=1.0->ipython-sql) (0.18.1)\n",
      "Requirement already satisfied: pygments in c:\\users\\kerri\\anaconda3\\lib\\site-packages (from ipython>=1.0->ipython-sql) (2.11.2)\n",
      "Requirement already satisfied: setuptools>=18.5 in c:\\users\\kerri\\anaconda3\\lib\\site-packages (from ipython>=1.0->ipython-sql) (63.4.1)\n",
      "Requirement already satisfied: matplotlib-inline in c:\\users\\kerri\\anaconda3\\lib\\site-packages (from ipython>=1.0->ipython-sql) (0.1.6)\n",
      "Requirement already satisfied: decorator in c:\\users\\kerri\\anaconda3\\lib\\site-packages (from ipython>=1.0->ipython-sql) (5.1.1)\n",
      "Requirement already satisfied: colorama in c:\\users\\kerri\\anaconda3\\lib\\site-packages (from ipython>=1.0->ipython-sql) (0.4.5)\n",
      "Requirement already satisfied: prompt-toolkit!=3.0.0,!=3.0.1,<3.1.0,>=2.0.0 in c:\\users\\kerri\\anaconda3\\lib\\site-packages (from ipython>=1.0->ipython-sql) (3.0.20)\n",
      "Requirement already satisfied: greenlet!=0.4.17 in c:\\users\\kerri\\anaconda3\\lib\\site-packages (from sqlalchemy>=0.6.7->ipython-sql) (1.1.1)\n",
      "Requirement already satisfied: parso<0.9.0,>=0.8.0 in c:\\users\\kerri\\anaconda3\\lib\\site-packages (from jedi>=0.16->ipython>=1.0->ipython-sql) (0.8.3)\n",
      "Requirement already satisfied: wcwidth in c:\\users\\kerri\\anaconda3\\lib\\site-packages (from prompt-toolkit!=3.0.0,!=3.0.1,<3.1.0,>=2.0.0->ipython>=1.0->ipython-sql) (0.2.5)\n",
      "The sql extension is already loaded. To reload it, use:\n",
      "  %reload_ext sql\n"
     ]
    }
   ],
   "source": [
    "!pip install ipython-sql \n",
    "%load_ext sql\n",
    "%sql sqlite://"
   ]
  },
  {
   "cell_type": "code",
   "execution_count": 2,
   "id": "34e5c1ec",
   "metadata": {
    "scrolled": true
   },
   "outputs": [
    {
     "name": "stdout",
     "output_type": "stream",
     "text": [
      " * sqlite://\n",
      "Done.\n",
      "4 rows affected.\n",
      "Done.\n",
      "Done.\n",
      "14 rows affected.\n",
      "Done.\n",
      "Done.\n",
      "10 rows affected.\n",
      "Done.\n",
      "Done.\n",
      "2 rows affected.\n",
      "Done.\n",
      "Done.\n",
      "2 rows affected.\n",
      "Done.\n",
      "Done.\n",
      "12 rows affected.\n"
     ]
    },
    {
     "data": {
      "text/plain": [
       "[]"
      ]
     },
     "execution_count": 2,
     "metadata": {},
     "output_type": "execute_result"
    }
   ],
   "source": [
    "%%sql --copied and pasted the Schema SQL code to create permanent tables\n",
    "CREATE TABLE runners (\n",
    "  \"runner_id\" INTEGER,\n",
    "  \"registration_date\" DATE\n",
    ");\n",
    "INSERT INTO runners\n",
    "  (\"runner_id\", \"registration_date\")\n",
    "VALUES\n",
    "  (1, '2021-01-01'),\n",
    "  (2, '2021-01-03'),\n",
    "  (3, '2021-01-08'),\n",
    "  (4, '2021-01-15');\n",
    "\n",
    "\n",
    "DROP TABLE IF EXISTS customer_orders;\n",
    "CREATE TABLE customer_orders (\n",
    "  \"order_id\" INTEGER,\n",
    "  \"customer_id\" INTEGER,\n",
    "  \"pizza_id\" INTEGER,\n",
    "  \"exclusions\" VARCHAR(4),\n",
    "  \"extras\" VARCHAR(4),\n",
    "  \"order_time\" TIMESTAMP\n",
    ");\n",
    "\n",
    "INSERT INTO customer_orders\n",
    "  (\"order_id\", \"customer_id\", \"pizza_id\", \"exclusions\", \"extras\", \"order_time\")\n",
    "VALUES\n",
    "  ('1', '101', '1', '', '', '2020-01-01 18:05:02'),\n",
    "  ('2', '101', '1', '', '', '2020-01-01 19:00:52'),\n",
    "  ('3', '102', '1', '', '', '2020-01-02 23:51:23'),\n",
    "  ('3', '102', '2', '', NULL, '2020-01-02 23:51:23'),\n",
    "  ('4', '103', '1', '4', '', '2020-01-04 13:23:46'),\n",
    "  ('4', '103', '1', '4', '', '2020-01-04 13:23:46'),\n",
    "  ('4', '103', '2', '4', '', '2020-01-04 13:23:46'),\n",
    "  ('5', '104', '1', 'null', '1', '2020-01-08 21:00:29'),\n",
    "  ('6', '101', '2', 'null', 'null', '2020-01-08 21:03:13'),\n",
    "  ('7', '105', '2', 'null', '1', '2020-01-08 21:20:29'),\n",
    "  ('8', '102', '1', 'null', 'null', '2020-01-09 23:54:33'),\n",
    "  ('9', '103', '1', '4', '1, 5', '2020-01-10 11:22:59'),\n",
    "  ('10', '104', '1', 'null', 'null', '2020-01-11 18:34:49'),\n",
    "  ('10', '104', '1', '2, 6', '1, 4', '2020-01-11 18:34:49');\n",
    "\n",
    "\n",
    "DROP TABLE IF EXISTS runner_orders;\n",
    "CREATE TABLE runner_orders (\n",
    "  \"order_id\" INTEGER,\n",
    "  \"runner_id\" INTEGER,\n",
    "  \"pickup_time\" VARCHAR(19),\n",
    "  \"distance\" VARCHAR(7),\n",
    "  \"duration\" VARCHAR(10),\n",
    "  \"cancellation\" VARCHAR(23)\n",
    ");\n",
    "\n",
    "INSERT INTO runner_orders\n",
    "  (\"order_id\", \"runner_id\", \"pickup_time\", \"distance\", \"duration\", \"cancellation\")\n",
    "VALUES\n",
    "  ('1', '1', '2020-01-01 18:15:34', '20km', '32 minutes', ''),\n",
    "  ('2', '1', '2020-01-01 19:10:54', '20km', '27 minutes', ''),\n",
    "  ('3', '1', '2020-01-03 00:12:37', '13.4km', '20 mins', NULL),\n",
    "  ('4', '2', '2020-01-04 13:53:03', '23.4', '40', NULL),\n",
    "  ('5', '3', '2020-01-08 21:10:57', '10', '15', NULL),\n",
    "  ('6', '3', 'null', 'null', 'null', 'Restaurant Cancellation'),\n",
    "  ('7', '2', '2020-01-08 21:30:45', '25km', '25mins', 'null'),\n",
    "  ('8', '2', '2020-01-10 00:15:02', '23.4 km', '15 minute', 'null'),\n",
    "  ('9', '2', 'null', 'null', 'null', 'Customer Cancellation'),\n",
    "  ('10', '1', '2020-01-11 18:50:20', '10km', '10minutes', 'null');\n",
    "\n",
    "\n",
    "DROP TABLE IF EXISTS pizza_names;\n",
    "CREATE TABLE pizza_names (\n",
    "  \"pizza_id\" INTEGER,\n",
    "  \"pizza_name\" TEXT\n",
    ");\n",
    "INSERT INTO pizza_names\n",
    "  (\"pizza_id\", \"pizza_name\")\n",
    "VALUES\n",
    "  (1, 'Meatlovers'),\n",
    "  (2, 'Vegetarian');\n",
    "\n",
    "\n",
    "DROP TABLE IF EXISTS pizza_recipes;\n",
    "CREATE TABLE pizza_recipes (\n",
    "  \"pizza_id\" INTEGER,\n",
    "  \"toppings\" TEXT\n",
    ");\n",
    "INSERT INTO pizza_recipes\n",
    "  (\"pizza_id\", \"toppings\")\n",
    "VALUES\n",
    "  (1, '1, 2, 3, 4, 5, 6, 8, 10'),\n",
    "  (2, '4, 6, 7, 9, 11, 12');\n",
    "\n",
    "\n",
    "DROP TABLE IF EXISTS pizza_toppings;\n",
    "CREATE TABLE pizza_toppings (\n",
    "  \"topping_id\" INTEGER,\n",
    "  \"topping_name\" TEXT\n",
    ");\n",
    "INSERT INTO pizza_toppings\n",
    "  (\"topping_id\", \"topping_name\")\n",
    "VALUES\n",
    "  (1, 'Bacon'),\n",
    "  (2, 'BBQ Sauce'),\n",
    "  (3, 'Beef'),\n",
    "  (4, 'Cheese'),\n",
    "  (5, 'Chicken'),\n",
    "  (6, 'Mushrooms'),\n",
    "  (7, 'Onions'),\n",
    "  (8, 'Pepperoni'),\n",
    "  (9, 'Peppers'),\n",
    "  (10, 'Salami'),\n",
    "  (11, 'Tomatoes'),\n",
    "  (12, 'Tomato Sauce');"
   ]
  },
  {
   "cell_type": "code",
   "execution_count": 3,
   "id": "5fa71542",
   "metadata": {},
   "outputs": [
    {
     "name": "stdout",
     "output_type": "stream",
     "text": [
      " * sqlite://\n",
      "Done.\n"
     ]
    },
    {
     "data": {
      "text/html": [
       "<table>\n",
       "    <tr>\n",
       "        <th>runner_id</th>\n",
       "        <th>registration_date</th>\n",
       "    </tr>\n",
       "    <tr>\n",
       "        <td>1</td>\n",
       "        <td>2021-01-01</td>\n",
       "    </tr>\n",
       "    <tr>\n",
       "        <td>2</td>\n",
       "        <td>2021-01-03</td>\n",
       "    </tr>\n",
       "    <tr>\n",
       "        <td>3</td>\n",
       "        <td>2021-01-08</td>\n",
       "    </tr>\n",
       "    <tr>\n",
       "        <td>4</td>\n",
       "        <td>2021-01-15</td>\n",
       "    </tr>\n",
       "</table>"
      ],
      "text/plain": [
       "[(1, '2021-01-01'), (2, '2021-01-03'), (3, '2021-01-08'), (4, '2021-01-15')]"
      ]
     },
     "execution_count": 3,
     "metadata": {},
     "output_type": "execute_result"
    }
   ],
   "source": [
    "%%sql --checking data to ensure that it was loaded correctly\n",
    "\n",
    "SELECT * from runners"
   ]
  },
  {
   "cell_type": "code",
   "execution_count": 4,
   "id": "615f1816",
   "metadata": {
    "scrolled": true
   },
   "outputs": [
    {
     "name": "stdout",
     "output_type": "stream",
     "text": [
      " * sqlite://\n",
      "Done.\n"
     ]
    },
    {
     "data": {
      "text/html": [
       "<table>\n",
       "    <tr>\n",
       "        <th>order_id</th>\n",
       "        <th>runner_id</th>\n",
       "        <th>pickup_time</th>\n",
       "        <th>distance</th>\n",
       "        <th>duration</th>\n",
       "        <th>cancellation</th>\n",
       "    </tr>\n",
       "    <tr>\n",
       "        <td>1</td>\n",
       "        <td>1</td>\n",
       "        <td>2020-01-01 18:15:34</td>\n",
       "        <td>20km</td>\n",
       "        <td>32 minutes</td>\n",
       "        <td></td>\n",
       "    </tr>\n",
       "    <tr>\n",
       "        <td>2</td>\n",
       "        <td>1</td>\n",
       "        <td>2020-01-01 19:10:54</td>\n",
       "        <td>20km</td>\n",
       "        <td>27 minutes</td>\n",
       "        <td></td>\n",
       "    </tr>\n",
       "    <tr>\n",
       "        <td>3</td>\n",
       "        <td>1</td>\n",
       "        <td>2020-01-03 00:12:37</td>\n",
       "        <td>13.4km</td>\n",
       "        <td>20 mins</td>\n",
       "        <td>None</td>\n",
       "    </tr>\n",
       "    <tr>\n",
       "        <td>4</td>\n",
       "        <td>2</td>\n",
       "        <td>2020-01-04 13:53:03</td>\n",
       "        <td>23.4</td>\n",
       "        <td>40</td>\n",
       "        <td>None</td>\n",
       "    </tr>\n",
       "    <tr>\n",
       "        <td>5</td>\n",
       "        <td>3</td>\n",
       "        <td>2020-01-08 21:10:57</td>\n",
       "        <td>10</td>\n",
       "        <td>15</td>\n",
       "        <td>None</td>\n",
       "    </tr>\n",
       "    <tr>\n",
       "        <td>6</td>\n",
       "        <td>3</td>\n",
       "        <td>null</td>\n",
       "        <td>null</td>\n",
       "        <td>null</td>\n",
       "        <td>Restaurant Cancellation</td>\n",
       "    </tr>\n",
       "    <tr>\n",
       "        <td>7</td>\n",
       "        <td>2</td>\n",
       "        <td>2020-01-08 21:30:45</td>\n",
       "        <td>25km</td>\n",
       "        <td>25mins</td>\n",
       "        <td>null</td>\n",
       "    </tr>\n",
       "    <tr>\n",
       "        <td>8</td>\n",
       "        <td>2</td>\n",
       "        <td>2020-01-10 00:15:02</td>\n",
       "        <td>23.4 km</td>\n",
       "        <td>15 minute</td>\n",
       "        <td>null</td>\n",
       "    </tr>\n",
       "    <tr>\n",
       "        <td>9</td>\n",
       "        <td>2</td>\n",
       "        <td>null</td>\n",
       "        <td>null</td>\n",
       "        <td>null</td>\n",
       "        <td>Customer Cancellation</td>\n",
       "    </tr>\n",
       "    <tr>\n",
       "        <td>10</td>\n",
       "        <td>1</td>\n",
       "        <td>2020-01-11 18:50:20</td>\n",
       "        <td>10km</td>\n",
       "        <td>10minutes</td>\n",
       "        <td>null</td>\n",
       "    </tr>\n",
       "</table>"
      ],
      "text/plain": [
       "[(1, 1, '2020-01-01 18:15:34', '20km', '32 minutes', ''),\n",
       " (2, 1, '2020-01-01 19:10:54', '20km', '27 minutes', ''),\n",
       " (3, 1, '2020-01-03 00:12:37', '13.4km', '20 mins', None),\n",
       " (4, 2, '2020-01-04 13:53:03', '23.4', '40', None),\n",
       " (5, 3, '2020-01-08 21:10:57', '10', '15', None),\n",
       " (6, 3, 'null', 'null', 'null', 'Restaurant Cancellation'),\n",
       " (7, 2, '2020-01-08 21:30:45', '25km', '25mins', 'null'),\n",
       " (8, 2, '2020-01-10 00:15:02', '23.4 km', '15 minute', 'null'),\n",
       " (9, 2, 'null', 'null', 'null', 'Customer Cancellation'),\n",
       " (10, 1, '2020-01-11 18:50:20', '10km', '10minutes', 'null')]"
      ]
     },
     "execution_count": 4,
     "metadata": {},
     "output_type": "execute_result"
    }
   ],
   "source": [
    "%%sql --review runner_orders table\n",
    "SELECT *\n",
    "FROM runner_orders"
   ]
  },
  {
   "cell_type": "code",
   "execution_count": 5,
   "id": "5cb23a03",
   "metadata": {
    "scrolled": true
   },
   "outputs": [
    {
     "name": "stdout",
     "output_type": "stream",
     "text": [
      " * sqlite://\n",
      "Done.\n"
     ]
    },
    {
     "data": {
      "text/html": [
       "<table>\n",
       "    <tr>\n",
       "        <th>order_id</th>\n",
       "        <th>customer_id</th>\n",
       "        <th>pizza_id</th>\n",
       "        <th>exclusions</th>\n",
       "        <th>extras</th>\n",
       "        <th>order_time</th>\n",
       "    </tr>\n",
       "    <tr>\n",
       "        <td>1</td>\n",
       "        <td>101</td>\n",
       "        <td>1</td>\n",
       "        <td></td>\n",
       "        <td></td>\n",
       "        <td>2020-01-01 18:05:02</td>\n",
       "    </tr>\n",
       "    <tr>\n",
       "        <td>2</td>\n",
       "        <td>101</td>\n",
       "        <td>1</td>\n",
       "        <td></td>\n",
       "        <td></td>\n",
       "        <td>2020-01-01 19:00:52</td>\n",
       "    </tr>\n",
       "    <tr>\n",
       "        <td>3</td>\n",
       "        <td>102</td>\n",
       "        <td>1</td>\n",
       "        <td></td>\n",
       "        <td></td>\n",
       "        <td>2020-01-02 23:51:23</td>\n",
       "    </tr>\n",
       "    <tr>\n",
       "        <td>3</td>\n",
       "        <td>102</td>\n",
       "        <td>2</td>\n",
       "        <td></td>\n",
       "        <td>None</td>\n",
       "        <td>2020-01-02 23:51:23</td>\n",
       "    </tr>\n",
       "    <tr>\n",
       "        <td>4</td>\n",
       "        <td>103</td>\n",
       "        <td>1</td>\n",
       "        <td>4</td>\n",
       "        <td></td>\n",
       "        <td>2020-01-04 13:23:46</td>\n",
       "    </tr>\n",
       "    <tr>\n",
       "        <td>4</td>\n",
       "        <td>103</td>\n",
       "        <td>1</td>\n",
       "        <td>4</td>\n",
       "        <td></td>\n",
       "        <td>2020-01-04 13:23:46</td>\n",
       "    </tr>\n",
       "    <tr>\n",
       "        <td>4</td>\n",
       "        <td>103</td>\n",
       "        <td>2</td>\n",
       "        <td>4</td>\n",
       "        <td></td>\n",
       "        <td>2020-01-04 13:23:46</td>\n",
       "    </tr>\n",
       "    <tr>\n",
       "        <td>5</td>\n",
       "        <td>104</td>\n",
       "        <td>1</td>\n",
       "        <td>null</td>\n",
       "        <td>1</td>\n",
       "        <td>2020-01-08 21:00:29</td>\n",
       "    </tr>\n",
       "    <tr>\n",
       "        <td>6</td>\n",
       "        <td>101</td>\n",
       "        <td>2</td>\n",
       "        <td>null</td>\n",
       "        <td>null</td>\n",
       "        <td>2020-01-08 21:03:13</td>\n",
       "    </tr>\n",
       "    <tr>\n",
       "        <td>7</td>\n",
       "        <td>105</td>\n",
       "        <td>2</td>\n",
       "        <td>null</td>\n",
       "        <td>1</td>\n",
       "        <td>2020-01-08 21:20:29</td>\n",
       "    </tr>\n",
       "    <tr>\n",
       "        <td>8</td>\n",
       "        <td>102</td>\n",
       "        <td>1</td>\n",
       "        <td>null</td>\n",
       "        <td>null</td>\n",
       "        <td>2020-01-09 23:54:33</td>\n",
       "    </tr>\n",
       "    <tr>\n",
       "        <td>9</td>\n",
       "        <td>103</td>\n",
       "        <td>1</td>\n",
       "        <td>4</td>\n",
       "        <td>1, 5</td>\n",
       "        <td>2020-01-10 11:22:59</td>\n",
       "    </tr>\n",
       "    <tr>\n",
       "        <td>10</td>\n",
       "        <td>104</td>\n",
       "        <td>1</td>\n",
       "        <td>null</td>\n",
       "        <td>null</td>\n",
       "        <td>2020-01-11 18:34:49</td>\n",
       "    </tr>\n",
       "    <tr>\n",
       "        <td>10</td>\n",
       "        <td>104</td>\n",
       "        <td>1</td>\n",
       "        <td>2, 6</td>\n",
       "        <td>1, 4</td>\n",
       "        <td>2020-01-11 18:34:49</td>\n",
       "    </tr>\n",
       "</table>"
      ],
      "text/plain": [
       "[(1, 101, 1, '', '', '2020-01-01 18:05:02'),\n",
       " (2, 101, 1, '', '', '2020-01-01 19:00:52'),\n",
       " (3, 102, 1, '', '', '2020-01-02 23:51:23'),\n",
       " (3, 102, 2, '', None, '2020-01-02 23:51:23'),\n",
       " (4, 103, 1, '4', '', '2020-01-04 13:23:46'),\n",
       " (4, 103, 1, '4', '', '2020-01-04 13:23:46'),\n",
       " (4, 103, 2, '4', '', '2020-01-04 13:23:46'),\n",
       " (5, 104, 1, 'null', '1', '2020-01-08 21:00:29'),\n",
       " (6, 101, 2, 'null', 'null', '2020-01-08 21:03:13'),\n",
       " (7, 105, 2, 'null', '1', '2020-01-08 21:20:29'),\n",
       " (8, 102, 1, 'null', 'null', '2020-01-09 23:54:33'),\n",
       " (9, 103, 1, '4', '1, 5', '2020-01-10 11:22:59'),\n",
       " (10, 104, 1, 'null', 'null', '2020-01-11 18:34:49'),\n",
       " (10, 104, 1, '2, 6', '1, 4', '2020-01-11 18:34:49')]"
      ]
     },
     "execution_count": 5,
     "metadata": {},
     "output_type": "execute_result"
    }
   ],
   "source": [
    "%%sql --review customer_orders table\n",
    "SELECT *\n",
    "FROM customer_orders"
   ]
  },
  {
   "cell_type": "markdown",
   "id": "b6f894f9",
   "metadata": {},
   "source": [
    "# Question 1: \n",
    "How many runners signed up for each 1 week period? (i.e. week starts 2021-01-01)"
   ]
  },
  {
   "cell_type": "code",
   "execution_count": 6,
   "id": "f750b130",
   "metadata": {},
   "outputs": [
    {
     "name": "stdout",
     "output_type": "stream",
     "text": [
      " * sqlite://\n",
      "Done.\n"
     ]
    },
    {
     "data": {
      "text/html": [
       "<table>\n",
       "    <tr>\n",
       "        <th>total_runners_registered</th>\n",
       "        <th>week_of_registration</th>\n",
       "    </tr>\n",
       "    <tr>\n",
       "        <td>2</td>\n",
       "        <td>2021-00</td>\n",
       "    </tr>\n",
       "    <tr>\n",
       "        <td>1</td>\n",
       "        <td>2021-01</td>\n",
       "    </tr>\n",
       "    <tr>\n",
       "        <td>1</td>\n",
       "        <td>2021-02</td>\n",
       "    </tr>\n",
       "</table>"
      ],
      "text/plain": [
       "[(2, '2021-00'), (1, '2021-01'), (1, '2021-02')]"
      ]
     },
     "execution_count": 6,
     "metadata": {},
     "output_type": "execute_result"
    }
   ],
   "source": [
    "%%sql\n",
    "SELECT COUNT(runner_id) as total_runners_registered, strftime('%Y-%W', registration_date) AS week_of_registration\n",
    "FROM runners\n",
    "GROUP BY week_of_registration\n",
    "ORDER BY week_of_registration"
   ]
  },
  {
   "cell_type": "markdown",
   "id": "dc61a8f2",
   "metadata": {},
   "source": [
    "In the week_of_registration column, the number to the right of the dash represents the week of the year, with the first week containing a Monday counted as week 1. So, to answer this question, it appears that two runners registered during the first week in 2021 (short week), one runner registered in week 2, and one runner registered in week 3. "
   ]
  },
  {
   "cell_type": "markdown",
   "id": "f6622b35",
   "metadata": {},
   "source": [
    "# Question 2: \n",
    "What was the average time in minutes it took for each runner to arrive at the Pizza Runner HQ to pickup the order?"
   ]
  },
  {
   "cell_type": "code",
   "execution_count": 7,
   "id": "5874ab88",
   "metadata": {},
   "outputs": [
    {
     "name": "stdout",
     "output_type": "stream",
     "text": [
      " * sqlite://\n",
      "Done.\n",
      "Done.\n"
     ]
    },
    {
     "data": {
      "text/plain": [
       "[]"
      ]
     },
     "execution_count": 7,
     "metadata": {},
     "output_type": "execute_result"
    }
   ],
   "source": [
    "%%sql\n",
    "/* Create a temporary TIMESTAMP column*/\n",
    "ALTER TABLE runner_orders ADD COLUMN updated_pickup_time TIMESTAMP without time zone NULL;\n",
    "\n",
    "/* Copy casted value over to the temporary column */\n",
    "UPDATE runner_orders SET updated_pickup_time = pickup_time;"
   ]
  },
  {
   "cell_type": "code",
   "execution_count": 8,
   "id": "834f19a0",
   "metadata": {},
   "outputs": [
    {
     "name": "stdout",
     "output_type": "stream",
     "text": [
      " * sqlite://\n",
      "Done.\n",
      "Done.\n"
     ]
    },
    {
     "data": {
      "text/plain": [
       "[]"
      ]
     },
     "execution_count": 8,
     "metadata": {},
     "output_type": "execute_result"
    }
   ],
   "source": [
    "%%sql\n",
    "/* Create a temporary TIMESTAMP column */\n",
    "ALTER TABLE customer_orders ADD COLUMN updated_order_time TIMESTAMP without time zone NULL;\n",
    "\n",
    "/* Copy casted value over to the temporary column */\n",
    "UPDATE customer_orders SET updated_order_time = order_time;"
   ]
  },
  {
   "cell_type": "code",
   "execution_count": 9,
   "id": "4316bb9c",
   "metadata": {
    "scrolled": true
   },
   "outputs": [
    {
     "name": "stdout",
     "output_type": "stream",
     "text": [
      " * sqlite://\n",
      "Done.\n"
     ]
    },
    {
     "data": {
      "text/html": [
       "<table>\n",
       "    <tr>\n",
       "        <th>cid</th>\n",
       "        <th>name</th>\n",
       "        <th>type</th>\n",
       "        <th>notnull</th>\n",
       "        <th>dflt_value</th>\n",
       "        <th>pk</th>\n",
       "    </tr>\n",
       "    <tr>\n",
       "        <td>0</td>\n",
       "        <td>order_id</td>\n",
       "        <td>INTEGER</td>\n",
       "        <td>0</td>\n",
       "        <td>None</td>\n",
       "        <td>0</td>\n",
       "    </tr>\n",
       "    <tr>\n",
       "        <td>1</td>\n",
       "        <td>customer_id</td>\n",
       "        <td>INTEGER</td>\n",
       "        <td>0</td>\n",
       "        <td>None</td>\n",
       "        <td>0</td>\n",
       "    </tr>\n",
       "    <tr>\n",
       "        <td>2</td>\n",
       "        <td>pizza_id</td>\n",
       "        <td>INTEGER</td>\n",
       "        <td>0</td>\n",
       "        <td>None</td>\n",
       "        <td>0</td>\n",
       "    </tr>\n",
       "    <tr>\n",
       "        <td>3</td>\n",
       "        <td>exclusions</td>\n",
       "        <td>VARCHAR(4)</td>\n",
       "        <td>0</td>\n",
       "        <td>None</td>\n",
       "        <td>0</td>\n",
       "    </tr>\n",
       "    <tr>\n",
       "        <td>4</td>\n",
       "        <td>extras</td>\n",
       "        <td>VARCHAR(4)</td>\n",
       "        <td>0</td>\n",
       "        <td>None</td>\n",
       "        <td>0</td>\n",
       "    </tr>\n",
       "    <tr>\n",
       "        <td>5</td>\n",
       "        <td>order_time</td>\n",
       "        <td>TIMESTAMP</td>\n",
       "        <td>0</td>\n",
       "        <td>None</td>\n",
       "        <td>0</td>\n",
       "    </tr>\n",
       "    <tr>\n",
       "        <td>6</td>\n",
       "        <td>updated_order_time</td>\n",
       "        <td>TIMESTAMP without time zone</td>\n",
       "        <td>0</td>\n",
       "        <td>None</td>\n",
       "        <td>0</td>\n",
       "    </tr>\n",
       "</table>"
      ],
      "text/plain": [
       "[(0, 'order_id', 'INTEGER', 0, None, 0),\n",
       " (1, 'customer_id', 'INTEGER', 0, None, 0),\n",
       " (2, 'pizza_id', 'INTEGER', 0, None, 0),\n",
       " (3, 'exclusions', 'VARCHAR(4)', 0, None, 0),\n",
       " (4, 'extras', 'VARCHAR(4)', 0, None, 0),\n",
       " (5, 'order_time', 'TIMESTAMP', 0, None, 0),\n",
       " (6, 'updated_order_time', 'TIMESTAMP without time zone', 0, None, 0)]"
      ]
     },
     "execution_count": 9,
     "metadata": {},
     "output_type": "execute_result"
    }
   ],
   "source": [
    "%%sql\n",
    "PRAGMA table_info(customer_orders);"
   ]
  },
  {
   "cell_type": "code",
   "execution_count": 10,
   "id": "757154fa",
   "metadata": {},
   "outputs": [
    {
     "name": "stdout",
     "output_type": "stream",
     "text": [
      " * sqlite://\n",
      "Done.\n"
     ]
    },
    {
     "data": {
      "text/html": [
       "<table>\n",
       "    <tr>\n",
       "        <th>runner_id</th>\n",
       "        <th>average_arrival_time</th>\n",
       "    </tr>\n",
       "    <tr>\n",
       "        <td>1</td>\n",
       "        <td>16.0</td>\n",
       "    </tr>\n",
       "    <tr>\n",
       "        <td>2</td>\n",
       "        <td>24.0</td>\n",
       "    </tr>\n",
       "    <tr>\n",
       "        <td>3</td>\n",
       "        <td>10.0</td>\n",
       "    </tr>\n",
       "</table>"
      ],
      "text/plain": [
       "[(1, 16.0), (2, 24.0), (3, 10.0)]"
      ]
     },
     "execution_count": 10,
     "metadata": {},
     "output_type": "execute_result"
    }
   ],
   "source": [
    "%%sql\n",
    "SELECT runner_id, ROUND(AVG(julianday(updated_pickup_time)-julianday(updated_order_time))*24*60) as average_arrival_time\n",
    "FROM runner_orders\n",
    "JOIN customer_orders on runner_orders.order_id=customer_orders.order_id\n",
    "WHERE updated_pickup_time != 'null'\n",
    "GROUP BY runner_id;"
   ]
  },
  {
   "cell_type": "markdown",
   "id": "b4a6cdab",
   "metadata": {},
   "source": [
    "On average, it took runner #1 16 minutes, runner #2 took 24 minutes, and runner #3 took 10 minutes to arrive at the Pizza Runner HQ to pick up their orders"
   ]
  },
  {
   "cell_type": "markdown",
   "id": "e4365db8",
   "metadata": {},
   "source": [
    "# Question 3:\n",
    "What was the average distance travelled for each customer?"
   ]
  },
  {
   "cell_type": "code",
   "execution_count": 12,
   "id": "6b5282b9",
   "metadata": {},
   "outputs": [
    {
     "name": "stdout",
     "output_type": "stream",
     "text": [
      " * sqlite://\n",
      "Done.\n"
     ]
    },
    {
     "data": {
      "text/html": [
       "<table>\n",
       "    <tr>\n",
       "        <th>average_distance_traveled</th>\n",
       "    </tr>\n",
       "    <tr>\n",
       "        <td>14.52</td>\n",
       "    </tr>\n",
       "</table>"
      ],
      "text/plain": [
       "[(14.52,)]"
      ]
     },
     "execution_count": 12,
     "metadata": {},
     "output_type": "execute_result"
    }
   ],
   "source": [
    "%%sql\n",
    "SELECT AVG(TRIM(distance, 'km')) as average_distance_traveled\n",
    "FROM runner_orders;"
   ]
  },
  {
   "cell_type": "markdown",
   "id": "dae314d7",
   "metadata": {},
   "source": [
    "The average distance traveled was 14.52 kilometers"
   ]
  },
  {
   "cell_type": "markdown",
   "id": "94c8ac09",
   "metadata": {},
   "source": [
    "# Question 4:\n",
    "What was the difference between the longest and shortest delivery times for all orders?"
   ]
  },
  {
   "cell_type": "code",
   "execution_count": 13,
   "id": "dcfcd5c8",
   "metadata": {},
   "outputs": [
    {
     "name": "stdout",
     "output_type": "stream",
     "text": [
      " * sqlite://\n",
      "Done.\n"
     ]
    },
    {
     "data": {
      "text/html": [
       "<table>\n",
       "    <tr>\n",
       "        <th>difference_in_delivery_times</th>\n",
       "    </tr>\n",
       "    <tr>\n",
       "        <td>30</td>\n",
       "    </tr>\n",
       "</table>"
      ],
      "text/plain": [
       "[(30,)]"
      ]
     },
     "execution_count": 13,
     "metadata": {},
     "output_type": "execute_result"
    }
   ],
   "source": [
    "%%sql\n",
    "SELECT MAX(TRIM(duration, 'minutes'))-MIN(TRIM(duration, 'minutes')) as difference_in_delivery_times \n",
    "FROM runner_orders\n",
    "WHERE duration != 'null';"
   ]
  },
  {
   "cell_type": "markdown",
   "id": "5678710c",
   "metadata": {},
   "source": [
    "The difference in delivery times is 30 minutes"
   ]
  },
  {
   "cell_type": "markdown",
   "id": "77f46c91",
   "metadata": {},
   "source": [
    "# Question 5:\n",
    "What was the average speed for each runner for each delivery and do you notice any trend for these values?"
   ]
  },
  {
   "cell_type": "code",
   "execution_count": 14,
   "id": "8b9b7967",
   "metadata": {},
   "outputs": [
    {
     "name": "stdout",
     "output_type": "stream",
     "text": [
      " * sqlite://\n",
      "Done.\n"
     ]
    },
    {
     "data": {
      "text/html": [
       "<table>\n",
       "    <tr>\n",
       "        <th>runner_id</th>\n",
       "        <th>number_of_deliveries</th>\n",
       "        <th>average_speed</th>\n",
       "    </tr>\n",
       "    <tr>\n",
       "        <td>2</td>\n",
       "        <td>3</td>\n",
       "        <td>26.666666666666668</td>\n",
       "    </tr>\n",
       "    <tr>\n",
       "        <td>1</td>\n",
       "        <td>4</td>\n",
       "        <td>22.25</td>\n",
       "    </tr>\n",
       "    <tr>\n",
       "        <td>3</td>\n",
       "        <td>1</td>\n",
       "        <td>15.0</td>\n",
       "    </tr>\n",
       "</table>"
      ],
      "text/plain": [
       "[(2, 3, 26.666666666666668), (1, 4, 22.25), (3, 1, 15.0)]"
      ]
     },
     "execution_count": 14,
     "metadata": {},
     "output_type": "execute_result"
    }
   ],
   "source": [
    "%%sql\n",
    "SELECT runner_id, COUNT(runner_id) as number_of_deliveries, AVG(TRIM(duration, 'minutes')) as average_speed\n",
    "FROM runner_orders\n",
    "WHERE duration != 'null'\n",
    "GROUP BY runner_id\n",
    "ORDER BY average_speed DESC;"
   ]
  },
  {
   "cell_type": "markdown",
   "id": "c10104bb",
   "metadata": {},
   "source": [
    "It appears that runner #3 had the least number of deliveries and the shortest average delivery speed. The other runners have significantly higher average speed times (26.67 and 22.25 mins) and relatively similar number of deliveries (3 and 4). One thing to note: Pizza Runner HQs had a total of 4 runners registered, but only three managed to be available for work."
   ]
  }
 ],
 "metadata": {
  "kernelspec": {
   "display_name": "Python 3 (ipykernel)",
   "language": "python",
   "name": "python3"
  },
  "language_info": {
   "codemirror_mode": {
    "name": "ipython",
    "version": 3
   },
   "file_extension": ".py",
   "mimetype": "text/x-python",
   "name": "python",
   "nbconvert_exporter": "python",
   "pygments_lexer": "ipython3",
   "version": "3.9.13"
  }
 },
 "nbformat": 4,
 "nbformat_minor": 5
}
